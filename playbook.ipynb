{
 "cells": [
  {
   "cell_type": "code",
   "execution_count": 1,
   "metadata": {},
   "outputs": [],
   "source": [
    "from zipfile import ZipFile\n",
    "from pathlib import Path\n",
    "import json\n",
    "from typing import NamedTuple"
   ]
  },
  {
   "cell_type": "code",
   "execution_count": 2,
   "metadata": {},
   "outputs": [],
   "source": [
    "class Highlight(NamedTuple):\n",
    "    '''single highlight obj parsed from json'''\n",
    "\n",
    "    obj: dict  # json dict\n",
    "\n",
    "    @property\n",
    "    def excerpt(self) -> str:\n",
    "        return self.obj['excerpt'].strip()\n",
    "\n",
    "    @property\n",
    "    def note(self) -> str:\n",
    "        return json.loads(self.obj['note_text'])['note'].strip()\n",
    "\n",
    "    @property\n",
    "    def has_excerpt_or_note(self) -> bool:\n",
    "        return bool(self.excerpt + self.note)\n"
   ]
  },
  {
   "cell_type": "code",
   "execution_count": 3,
   "metadata": {},
   "outputs": [],
   "source": [
    "class Annotation(NamedTuple):\n",
    "    '''annotation of an ebook'''\n",
    "    \n",
    "    metadata: dict              # book title, authors, publisher ...\n",
    "    highlights: list[Highlight] # list of highlights w/ notes from json obj\n",
    "\n",
    "    @property\n",
    "    def annotated(self) -> bool:\n",
    "        return bool(len(self.highlights))\n",
    "\n",
    "    @property\n",
    "    def title(self) -> str:\n",
    "        return self.metadata['volume_info']['title']\n",
    "\n",
    "    @property\n",
    "    def highlights_with_notes(self) -> str:\n",
    "        '''return highlighted text with notes as string'''\n",
    "        op = ''\n",
    "        for h in self.highlights:\n",
    "            op += f\"- {h.excerpt}\\n\" if h.excerpt else ''\n",
    "            op += f\"  +  {h.note}\\n\" if h.note else ''\n",
    "        return op\n",
    "\n",
    "    @property\n",
    "    def md(self) -> str:\n",
    "        heading = f\"# {self.title}\\n\\n\"\n",
    "        return heading + self.highlights_with_notes"
   ]
  },
  {
   "cell_type": "code",
   "execution_count": 4,
   "metadata": {},
   "outputs": [],
   "source": [
    "def takeout_convert(txt: str) -> Annotation:\n",
    "    '''google takeout combined 3 json obj into one json file\n",
    "    1. book metadata\n",
    "    2. list of highlights and notes\n",
    "    3. reading status, finish or not \n",
    "    this func split it and convert the first 2 into an Annotation obj'''\n",
    "    delimiter = '~@~@^~@~'  # any rare string\n",
    "    arr = (txt\n",
    "        .replace('}[', f'}}{delimiter}[')\n",
    "        .replace(']{', f']{delimiter}{{')\n",
    "        .split(delimiter, maxsplit=2)\n",
    "    )\n",
    "    jsons = [json.loads(obj) for obj in arr]\n",
    "    all_highlighs = [Highlight(obj) for obj in jsons[1]]\n",
    "    highlighs = [h for h in all_highlighs if h.has_excerpt_or_note]\n",
    "    return Annotation(\n",
    "        metadata=jsons[0], \n",
    "        highlights=highlighs\n",
    "    )"
   ]
  },
  {
   "cell_type": "code",
   "execution_count": 5,
   "metadata": {},
   "outputs": [],
   "source": [
    "def annotations_from(file_path:str) -> list[Annotation]:\n",
    "    '''return list of Annotation objs from given file path'''\n",
    "    with ZipFile(file_path) as z:\n",
    "        json_texts = [\n",
    "            z.read(f).decode('UTF-8') \n",
    "            for f in z.namelist() \n",
    "            if f.endswith('.json')\n",
    "        ]\n",
    "        return [takeout_convert(txt) for txt in json_texts]"
   ]
  },
  {
   "cell_type": "markdown",
   "metadata": {},
   "source": [
    "## params"
   ]
  },
  {
   "cell_type": "code",
   "execution_count": 6,
   "metadata": {},
   "outputs": [],
   "source": [
    "md_folder = Path('./annotations')       # output markdown folder\n",
    "takeout_zip = './takeout-ebook-annotations.zip'"
   ]
  },
  {
   "cell_type": "markdown",
   "metadata": {},
   "source": [
    "## main program"
   ]
  },
  {
   "cell_type": "code",
   "execution_count": null,
   "metadata": {},
   "outputs": [],
   "source": [
    "md_folder.mkdir(parents=True, exist_ok=True)\n",
    "cnt = 0\n",
    "for annotation in annotations_from(takeout_zip):\n",
    "    if annotation.highlights_with_notes: \n",
    "        cnt += 1\n",
    "        # print(annotation.md)\n",
    "        md_path = md_folder / f'{annotation.title}.md'\n",
    "        md_path.write_text(annotation.md)\n",
    "        print(annotation.title)\n",
    "        \n",
    "print('cnt: ', cnt)"
   ]
  }
 ],
 "metadata": {
  "interpreter": {
   "hash": "960f0b662f5ad4accbaf95470e05d447366d422c116597899c19d0da67c29ba6"
  },
  "kernelspec": {
   "display_name": "Python 3.10.4 ('base-lk8-Uttm-py3.10')",
   "language": "python",
   "name": "python3"
  },
  "language_info": {
   "codemirror_mode": {
    "name": "ipython",
    "version": 3
   },
   "file_extension": ".py",
   "mimetype": "text/x-python",
   "name": "python",
   "nbconvert_exporter": "python",
   "pygments_lexer": "ipython3",
   "version": "3.10.4"
  },
  "orig_nbformat": 4
 },
 "nbformat": 4,
 "nbformat_minor": 2
}
